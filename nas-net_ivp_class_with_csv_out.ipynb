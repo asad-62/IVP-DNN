{
 "cells": [
  {
   "cell_type": "code",
   "execution_count": 1,
   "metadata": {},
   "outputs": [],
   "source": [
    "#import libs\n",
    "import os\n",
    "import numpy as np\n",
    "import cv2\n",
    "import sys\n",
    "import numpy as np\n",
    "from skimage.io import imread\n",
    "import matplotlib.pyplot as plt\n",
    "import tensorflow.keras.applications\n",
    "import pandas as pd"
   ]
  },
  {
   "cell_type": "code",
   "execution_count": 2,
   "metadata": {},
   "outputs": [],
   "source": [
    "#Loading all pictures of a folder and returns them as 3D arrays in a list. Additionally returns the filenames as a seperate list\n",
    "def load_images(path):\n",
    "    image_list = []\n",
    "    filename_list = []\n",
    "    for filename in os.listdir(path):\n",
    "        img = cv2.imread(os.path.join(path,filename))\n",
    "        name = filename\n",
    "        if img is not None:\n",
    "            img = cv2.cvtColor(img, cv2.COLOR_BGR2RGB)\n",
    "            image_list.append(img)\n",
    "            filename_list.append(name)\n",
    "    return image_list, filename_list\n",
    "\n",
    "#Preprocessing a List of images for NASNet approach with dim 331_331 and return them as arrays in a list\n",
    "def prepro_NAS (img_list):\n",
    "    prepro_list=[]\n",
    "    dim = (331, 331)\n",
    "    for i in range(len(img_list)):\n",
    "        curr = cv2.resize(img_list[i], dim)\n",
    "        curr = tensorflow.keras.applications.nasnet.preprocess_input(curr, data_format=None)\n",
    "        curr = np.expand_dims(curr, 0)\n",
    "        prepro_list.append(curr)\n",
    "    return prepro_list\n",
    "\n",
    "#requires upper functions \n",
    "#Main method calls functions for loading the pictures from given path, preprocesses them for NAS and returns the file names as well as the Classification results as a list\n",
    "def main (path):\n",
    "    image_list, name_list = load_images(path)\n",
    "    processed_img = prepro_NAS(image_list)\n",
    "    results = []\n",
    "    for i in range(len(processed_img)):\n",
    "        y = model.predict(processed_img[i])\n",
    "        pred = tensorflow.keras.applications.nasnet.decode_predictions(y, top = 5)\n",
    "        results.append(pred)\n",
    "    return name_list, results\n",
    "\n",
    "#requires upper functions | input: list of filenames, list of results from nasnet\n",
    "#writes an DataFrame with pandas for an csv export with seperate colums for each possible label, its readable name and its probability \n",
    "def write_df (name_list, results):\n",
    "    pre_1_nas, pre_1_name, pre_1_prob, pre_2_nas, pre_2_name, pre_2_prob, pre_3_nas, pre_3_name, pre_3_prob, pre_4_nas, pre_4_name, pre_4_prob, pre_5_nas, pre_5_name, pre_5_prob = ([] for i in range(15))\n",
    "    for i in range(0, len(results)):    \n",
    "        pre_1_nas.append(results[i][0][0][0])\n",
    "        pre_1_name.append(results[i][0][0][1])\n",
    "        pre_1_prob.append(results[i][0][0][2])\n",
    "        pre_2_nas.append(results[i][0][1][0])\n",
    "        pre_2_name.append(results[i][0][1][1])\n",
    "        pre_2_prob.append(results[i][0][1][2])\n",
    "        pre_3_nas.append(results[i][0][2][0])\n",
    "        pre_3_name.append(results[i][0][2][1])\n",
    "        pre_3_prob.append(results[i][0][2][2])\n",
    "        pre_4_nas.append(results[i][0][3][0])\n",
    "        pre_4_name.append(results[i][0][3][1])\n",
    "        pre_4_prob.append(results[i][0][3][2])\n",
    "        pre_5_nas.append(results[i][0][4][0])\n",
    "        pre_5_name.append(results[i][0][4][1])\n",
    "        pre_5_prob.append(results[i][0][4][2])     \n",
    "    df = pd.DataFrame({\"Filename\": name_list, \"Result#1_NAS\": pre_1_nas, \"Result#1_Name\": pre_1_name, \"Result#1_Probability\":pre_1_prob, \"Result#2_NAS\": pre_2_nas, \"Result#2_Name\": pre_2_name, \"Result#2_Probability\":pre_2_prob, \"Result#3_NAS\": pre_3_nas, \"Result#3_Name\": pre_3_name, \"Result#3_Probability\":pre_3_prob, \"Result#4_NAS\": pre_4_nas, \"Result#4_Name\": pre_4_name, \"Result#4_Probability\":pre_4_prob, \"Result#5_NAS\": pre_5_nas, \"Result#5_Name\": pre_5_name, \"Result#5_Probability\":pre_5_prob})\n",
    "    return df\n",
    "\n",
    "#exports the DataFrame as a csv-file\n",
    "def exporter(df, path_to_new_csv):\n",
    "    df.to_csv(path_or_buf = path_to_new_csv)\n",
    "    "
   ]
  },
  {
   "cell_type": "code",
   "execution_count": 3,
   "metadata": {},
   "outputs": [],
   "source": [
    "model = tensorflow.keras.applications.NASNetLarge(weights='imagenet') "
   ]
  },
  {
   "cell_type": "code",
   "execution_count": 4,
   "metadata": {},
   "outputs": [],
   "source": [
    "names, results = main(\"/Volumes/SD_Alex/avt_image_db_selection_resized/\")"
   ]
  },
  {
   "cell_type": "code",
   "execution_count": 5,
   "metadata": {},
   "outputs": [],
   "source": [
    "data_f = write_df(name_list=names, results=results)"
   ]
  },
  {
   "cell_type": "code",
   "execution_count": 6,
   "metadata": {},
   "outputs": [],
   "source": [
    "exporter(df=data_f, path_to_new_csv=\"nas_results_alex_cropped.csv\")"
   ]
  },
  {
   "cell_type": "code",
   "execution_count": null,
   "metadata": {},
   "outputs": [],
   "source": []
  }
 ],
 "metadata": {
  "kernelspec": {
   "display_name": "Python 3",
   "language": "python",
   "name": "python3"
  },
  "language_info": {
   "codemirror_mode": {
    "name": "ipython",
    "version": 3
   },
   "file_extension": ".py",
   "mimetype": "text/x-python",
   "name": "python",
   "nbconvert_exporter": "python",
   "pygments_lexer": "ipython3",
   "version": "3.7.6"
  }
 },
 "nbformat": 4,
 "nbformat_minor": 4
}
